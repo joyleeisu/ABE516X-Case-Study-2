{
 "cells": [
  {
   "cell_type": "markdown",
   "metadata": {},
   "source": [
    "Question 1:\tWhat are the top ten GDP countries in the latest record? \n",
    "\n"
   ]
  },
  {
   "cell_type": "code",
   "execution_count": 1,
   "metadata": {},
   "outputs": [],
   "source": [
    "import pandas as pd\n",
    "import numpy as np\n",
    "import matplotlib.pyplot as plt\n",
    "\n",
    "%matplotlib inline"
   ]
  },
  {
   "cell_type": "code",
   "execution_count": 2,
   "metadata": {
    "scrolled": true
   },
   "outputs": [
    {
     "data": {
      "text/html": [
       "<div>\n",
       "<style scoped>\n",
       "    .dataframe tbody tr th:only-of-type {\n",
       "        vertical-align: middle;\n",
       "    }\n",
       "\n",
       "    .dataframe tbody tr th {\n",
       "        vertical-align: top;\n",
       "    }\n",
       "\n",
       "    .dataframe thead th {\n",
       "        text-align: right;\n",
       "    }\n",
       "</style>\n",
       "<table border=\"1\" class=\"dataframe\">\n",
       "  <thead>\n",
       "    <tr style=\"text-align: right;\">\n",
       "      <th></th>\n",
       "      <th>VariableCode</th>\n",
       "      <th>RegionCode</th>\n",
       "      <th>AggValue</th>\n",
       "    </tr>\n",
       "    <tr>\n",
       "      <th>YearCode</th>\n",
       "      <th></th>\n",
       "      <th></th>\n",
       "      <th></th>\n",
       "    </tr>\n",
       "  </thead>\n",
       "  <tbody>\n",
       "    <tr>\n",
       "      <th>1970</th>\n",
       "      <td>rgdpna</td>\n",
       "      <td>ABW</td>\n",
       "      <td>344.258301</td>\n",
       "    </tr>\n",
       "    <tr>\n",
       "      <th>1971</th>\n",
       "      <td>rgdpna</td>\n",
       "      <td>ABW</td>\n",
       "      <td>375.546143</td>\n",
       "    </tr>\n",
       "    <tr>\n",
       "      <th>1972</th>\n",
       "      <td>rgdpna</td>\n",
       "      <td>ABW</td>\n",
       "      <td>409.677582</td>\n",
       "    </tr>\n",
       "    <tr>\n",
       "      <th>1973</th>\n",
       "      <td>rgdpna</td>\n",
       "      <td>ABW</td>\n",
       "      <td>446.911041</td>\n",
       "    </tr>\n",
       "    <tr>\n",
       "      <th>1974</th>\n",
       "      <td>rgdpna</td>\n",
       "      <td>ABW</td>\n",
       "      <td>487.528473</td>\n",
       "    </tr>\n",
       "  </tbody>\n",
       "</table>\n",
       "</div>"
      ],
      "text/plain": [
       "         VariableCode RegionCode    AggValue\n",
       "YearCode                                    \n",
       "1970           rgdpna        ABW  344.258301\n",
       "1971           rgdpna        ABW  375.546143\n",
       "1972           rgdpna        ABW  409.677582\n",
       "1973           rgdpna        ABW  446.911041\n",
       "1974           rgdpna        ABW  487.528473"
      ]
     },
     "execution_count": 2,
     "metadata": {},
     "output_type": "execute_result"
    }
   ],
   "source": [
    "gdp = pd.read_csv('FebPwtExport9122019.csv', index_col = 'YearCode')\n",
    "gdp.head()"
   ]
  },
  {
   "cell_type": "code",
   "execution_count": 3,
   "metadata": {},
   "outputs": [
    {
     "data": {
      "text/plain": [
       "pandas.core.frame.DataFrame"
      ]
     },
     "execution_count": 3,
     "metadata": {},
     "output_type": "execute_result"
    }
   ],
   "source": [
    "type(gdp)"
   ]
  },
  {
   "cell_type": "code",
   "execution_count": 4,
   "metadata": {},
   "outputs": [
    {
     "data": {
      "text/html": [
       "<div>\n",
       "<style scoped>\n",
       "    .dataframe tbody tr th:only-of-type {\n",
       "        vertical-align: middle;\n",
       "    }\n",
       "\n",
       "    .dataframe tbody tr th {\n",
       "        vertical-align: top;\n",
       "    }\n",
       "\n",
       "    .dataframe thead th {\n",
       "        text-align: right;\n",
       "    }\n",
       "</style>\n",
       "<table border=\"1\" class=\"dataframe\">\n",
       "  <thead>\n",
       "    <tr style=\"text-align: right;\">\n",
       "      <th></th>\n",
       "      <th>VariableCode</th>\n",
       "      <th>RegionCode</th>\n",
       "      <th>AggValue</th>\n",
       "    </tr>\n",
       "    <tr>\n",
       "      <th>YearCode</th>\n",
       "      <th></th>\n",
       "      <th></th>\n",
       "      <th></th>\n",
       "    </tr>\n",
       "  </thead>\n",
       "  <tbody>\n",
       "    <tr>\n",
       "      <th>2017</th>\n",
       "      <td>rgdpna</td>\n",
       "      <td>ABW</td>\n",
       "      <td>3720.458740</td>\n",
       "    </tr>\n",
       "    <tr>\n",
       "      <th>2017</th>\n",
       "      <td>rgdpna</td>\n",
       "      <td>AGO</td>\n",
       "      <td>202174.453125</td>\n",
       "    </tr>\n",
       "    <tr>\n",
       "      <th>2017</th>\n",
       "      <td>rgdpna</td>\n",
       "      <td>AIA</td>\n",
       "      <td>270.566650</td>\n",
       "    </tr>\n",
       "    <tr>\n",
       "      <th>2017</th>\n",
       "      <td>rgdpna</td>\n",
       "      <td>ALB</td>\n",
       "      <td>33518.214844</td>\n",
       "    </tr>\n",
       "    <tr>\n",
       "      <th>2017</th>\n",
       "      <td>rgdpna</td>\n",
       "      <td>ARE</td>\n",
       "      <td>727097.937500</td>\n",
       "    </tr>\n",
       "  </tbody>\n",
       "</table>\n",
       "</div>"
      ],
      "text/plain": [
       "         VariableCode RegionCode       AggValue\n",
       "YearCode                                       \n",
       "2017           rgdpna        ABW    3720.458740\n",
       "2017           rgdpna        AGO  202174.453125\n",
       "2017           rgdpna        AIA     270.566650\n",
       "2017           rgdpna        ALB   33518.214844\n",
       "2017           rgdpna        ARE  727097.937500"
      ]
     },
     "execution_count": 4,
     "metadata": {},
     "output_type": "execute_result"
    }
   ],
   "source": [
    "gdp_2017 = gdp.loc[2017]\n",
    "gdp_2017.head()"
   ]
  },
  {
   "cell_type": "code",
   "execution_count": 5,
   "metadata": {},
   "outputs": [
    {
     "data": {
      "text/html": [
       "<div>\n",
       "<style scoped>\n",
       "    .dataframe tbody tr th:only-of-type {\n",
       "        vertical-align: middle;\n",
       "    }\n",
       "\n",
       "    .dataframe tbody tr th {\n",
       "        vertical-align: top;\n",
       "    }\n",
       "\n",
       "    .dataframe thead th {\n",
       "        text-align: right;\n",
       "    }\n",
       "</style>\n",
       "<table border=\"1\" class=\"dataframe\">\n",
       "  <thead>\n",
       "    <tr style=\"text-align: right;\">\n",
       "      <th></th>\n",
       "      <th>VariableCode</th>\n",
       "      <th>RegionCode</th>\n",
       "      <th>AggValue</th>\n",
       "    </tr>\n",
       "    <tr>\n",
       "      <th>YearCode</th>\n",
       "      <th></th>\n",
       "      <th></th>\n",
       "      <th></th>\n",
       "    </tr>\n",
       "  </thead>\n",
       "  <tbody>\n",
       "    <tr>\n",
       "      <th>2017</th>\n",
       "      <td>rgdpna</td>\n",
       "      <td>CHN</td>\n",
       "      <td>18978502.0</td>\n",
       "    </tr>\n",
       "    <tr>\n",
       "      <th>2017</th>\n",
       "      <td>rgdpna</td>\n",
       "      <td>USA</td>\n",
       "      <td>17711024.0</td>\n",
       "    </tr>\n",
       "    <tr>\n",
       "      <th>2017</th>\n",
       "      <td>rgdpna</td>\n",
       "      <td>IND</td>\n",
       "      <td>8769179.0</td>\n",
       "    </tr>\n",
       "    <tr>\n",
       "      <th>2017</th>\n",
       "      <td>rgdpna</td>\n",
       "      <td>JPN</td>\n",
       "      <td>5020396.0</td>\n",
       "    </tr>\n",
       "    <tr>\n",
       "      <th>2017</th>\n",
       "      <td>rgdpna</td>\n",
       "      <td>DEU</td>\n",
       "      <td>3805884.0</td>\n",
       "    </tr>\n",
       "  </tbody>\n",
       "</table>\n",
       "</div>"
      ],
      "text/plain": [
       "         VariableCode RegionCode    AggValue\n",
       "YearCode                                    \n",
       "2017           rgdpna        CHN  18978502.0\n",
       "2017           rgdpna        USA  17711024.0\n",
       "2017           rgdpna        IND   8769179.0\n",
       "2017           rgdpna        JPN   5020396.0\n",
       "2017           rgdpna        DEU   3805884.0"
      ]
     },
     "execution_count": 5,
     "metadata": {},
     "output_type": "execute_result"
    }
   ],
   "source": [
    "gdp_sort = gdp_2017.sort_values('AggValue', ascending = False)\n",
    "gdp_sort.head()"
   ]
  },
  {
   "cell_type": "code",
   "execution_count": 6,
   "metadata": {},
   "outputs": [
    {
     "name": "stdout",
     "output_type": "stream",
     "text": [
      "         VariableCode RegionCode     AggValue\n",
      "YearCode                                     \n",
      "2017           rgdpna        CHN  18978502.00\n",
      "2017           rgdpna        USA  17711024.00\n",
      "2017           rgdpna        IND   8769179.00\n",
      "2017           rgdpna        JPN   5020396.00\n",
      "2017           rgdpna        DEU   3805884.00\n",
      "2017           rgdpna        RUS   3744551.25\n",
      "2017           rgdpna        IDN   2949522.00\n",
      "2017           rgdpna        BRA   2943783.50\n",
      "2017           rgdpna        FRA   2565994.25\n",
      "2017           rgdpna        GBR   2525001.00\n"
     ]
    }
   ],
   "source": [
    "gdp_topten = gdp_sort[:10]\n",
    "print (gdp_topten)"
   ]
  },
  {
   "cell_type": "code",
   "execution_count": 7,
   "metadata": {},
   "outputs": [
    {
     "data": {
      "image/png": "[encoded data removed]",
      "text/plain": [
       "<Figure size 432x288 with 1 Axes>"
      ]
     },
     "metadata": {
      "needs_background": "light"
     },
     "output_type": "display_data"
    }
   ],
   "source": [
    "plt.scatter(gdp_topten.RegionCode, gdp_topten.AggValue)\n",
    "plt.title('Top 10 GDP Countries in 2017')\n",
    "plt.xlabel('Country')\n",
    "plt.ylabel('GDP')\n",
    "plt.grid()"
   ]
  },
  {
   "cell_type": "markdown",
   "metadata": {},
   "source": [
    "Question 2: Show the GDP trend of the top five Countries. "
   ]
  },
  {
   "cell_type": "code",
   "execution_count": 8,
   "metadata": {},
   "outputs": [
    {
     "data": {
      "text/html": [
       "<div>\n",
       "<style scoped>\n",
       "    .dataframe tbody tr th:only-of-type {\n",
       "        vertical-align: middle;\n",
       "    }\n",
       "\n",
       "    .dataframe tbody tr th {\n",
       "        vertical-align: top;\n",
       "    }\n",
       "\n",
       "    .dataframe thead th {\n",
       "        text-align: right;\n",
       "    }\n",
       "</style>\n",
       "<table border=\"1\" class=\"dataframe\">\n",
       "  <thead>\n",
       "    <tr style=\"text-align: right;\">\n",
       "      <th></th>\n",
       "      <th>VariableCode</th>\n",
       "      <th>YearCode</th>\n",
       "      <th>AggValue</th>\n",
       "    </tr>\n",
       "    <tr>\n",
       "      <th>RegionCode</th>\n",
       "      <th></th>\n",
       "      <th></th>\n",
       "      <th></th>\n",
       "    </tr>\n",
       "  </thead>\n",
       "  <tbody>\n",
       "    <tr>\n",
       "      <th>CHN</th>\n",
       "      <td>rgdpna</td>\n",
       "      <td>1952</td>\n",
       "      <td>449787.8125</td>\n",
       "    </tr>\n",
       "    <tr>\n",
       "      <th>CHN</th>\n",
       "      <td>rgdpna</td>\n",
       "      <td>1953</td>\n",
       "      <td>508555.8125</td>\n",
       "    </tr>\n",
       "    <tr>\n",
       "      <th>CHN</th>\n",
       "      <td>rgdpna</td>\n",
       "      <td>1954</td>\n",
       "      <td>471481.9375</td>\n",
       "    </tr>\n",
       "    <tr>\n",
       "      <th>CHN</th>\n",
       "      <td>rgdpna</td>\n",
       "      <td>1955</td>\n",
       "      <td>514365.8750</td>\n",
       "    </tr>\n",
       "    <tr>\n",
       "      <th>CHN</th>\n",
       "      <td>rgdpna</td>\n",
       "      <td>1956</td>\n",
       "      <td>558408.4375</td>\n",
       "    </tr>\n",
       "  </tbody>\n",
       "</table>\n",
       "</div>"
      ],
      "text/plain": [
       "           VariableCode  YearCode     AggValue\n",
       "RegionCode                                    \n",
       "CHN              rgdpna      1952  449787.8125\n",
       "CHN              rgdpna      1953  508555.8125\n",
       "CHN              rgdpna      1954  471481.9375\n",
       "CHN              rgdpna      1955  514365.8750\n",
       "CHN              rgdpna      1956  558408.4375"
      ]
     },
     "execution_count": 8,
     "metadata": {},
     "output_type": "execute_result"
    }
   ],
   "source": [
    "import pandas as pd\n",
    "import numpy as np\n",
    "import matplotlib.pyplot as plt\n",
    "\n",
    "%matplotlib inline\n",
    "\n",
    "gdp = pd.read_csv('FebPwtExport9122019.csv', index_col = 'RegionCode')\n",
    "gdp_CHN = gdp.loc['CHN']\n",
    "gdp_CHN.head()"
   ]
  },
  {
   "cell_type": "code",
   "execution_count": 9,
   "metadata": {},
   "outputs": [
    {
     "data": {
      "text/html": [
       "<div>\n",
       "<style scoped>\n",
       "    .dataframe tbody tr th:only-of-type {\n",
       "        vertical-align: middle;\n",
       "    }\n",
       "\n",
       "    .dataframe tbody tr th {\n",
       "        vertical-align: top;\n",
       "    }\n",
       "\n",
       "    .dataframe thead th {\n",
       "        text-align: right;\n",
       "    }\n",
       "</style>\n",
       "<table border=\"1\" class=\"dataframe\">\n",
       "  <thead>\n",
       "    <tr style=\"text-align: right;\">\n",
       "      <th></th>\n",
       "      <th>VariableCode</th>\n",
       "      <th>YearCode</th>\n",
       "      <th>AggValue</th>\n",
       "    </tr>\n",
       "    <tr>\n",
       "      <th>RegionCode</th>\n",
       "      <th></th>\n",
       "      <th></th>\n",
       "      <th></th>\n",
       "    </tr>\n",
       "  </thead>\n",
       "  <tbody>\n",
       "    <tr>\n",
       "      <th>CHN</th>\n",
       "      <td>rgdpna</td>\n",
       "      <td>2017</td>\n",
       "      <td>18978502.0</td>\n",
       "    </tr>\n",
       "    <tr>\n",
       "      <th>CHN</th>\n",
       "      <td>rgdpna</td>\n",
       "      <td>2016</td>\n",
       "      <td>18191996.0</td>\n",
       "    </tr>\n",
       "    <tr>\n",
       "      <th>CHN</th>\n",
       "      <td>rgdpna</td>\n",
       "      <td>2015</td>\n",
       "      <td>17506840.0</td>\n",
       "    </tr>\n",
       "    <tr>\n",
       "      <th>CHN</th>\n",
       "      <td>rgdpna</td>\n",
       "      <td>2014</td>\n",
       "      <td>16859516.0</td>\n",
       "    </tr>\n",
       "    <tr>\n",
       "      <th>CHN</th>\n",
       "      <td>rgdpna</td>\n",
       "      <td>2013</td>\n",
       "      <td>15855715.0</td>\n",
       "    </tr>\n",
       "  </tbody>\n",
       "</table>\n",
       "</div>"
      ],
      "text/plain": [
       "           VariableCode  YearCode    AggValue\n",
       "RegionCode                                   \n",
       "CHN              rgdpna      2017  18978502.0\n",
       "CHN              rgdpna      2016  18191996.0\n",
       "CHN              rgdpna      2015  17506840.0\n",
       "CHN              rgdpna      2014  16859516.0\n",
       "CHN              rgdpna      2013  15855715.0"
      ]
     },
     "execution_count": 9,
     "metadata": {},
     "output_type": "execute_result"
    }
   ],
   "source": [
    "gdp_CHN_decade = gdp_CHN.sort_values('YearCode', ascending = False)[:30]\n",
    "gdp_CHN_decade.head()\n"
   ]
  },
  {
   "cell_type": "code",
   "execution_count": 10,
   "metadata": {},
   "outputs": [],
   "source": [
    "gdp_USA_decade = gdp.loc['USA'].sort_values('YearCode', ascending = False)[:30]\n",
    "gdp_IND_decade = gdp.loc['IND'].sort_values('YearCode', ascending = False)[:30]\n",
    "gdp_JPN_decade = gdp.loc['JPN'].sort_values('YearCode', ascending = False)[:30]\n",
    "gdp_DEU_decade = gdp.loc['DEU'].sort_values('YearCode', ascending = False)[:30]\n"
   ]
  },
  {
   "cell_type": "code",
   "execution_count": 11,
   "metadata": {},
   "outputs": [
    {
     "data": {
      "image/png": "[encoded data removed]",
      "text/plain": [
       "<Figure size 432x288 with 1 Axes>"
      ]
     },
     "metadata": {
      "needs_background": "light"
     },
     "output_type": "display_data"
    }
   ],
   "source": [
    "ax = gdp_CHN_decade.plot(x = 'YearCode', y = 'AggValue', label = 'CHN')\n",
    "gdp_USA_decade.plot(ax = ax, x = 'YearCode', y = 'AggValue', label = 'USA')\n",
    "gdp_IND_decade.plot(ax = ax, x = 'YearCode', y = 'AggValue', label = 'IND')\n",
    "gdp_JPN_decade.plot(ax = ax, x = 'YearCode', y = 'AggValue', label = 'JPN')\n",
    "gdp_DEU_decade.plot(ax = ax, x = 'YearCode', y = 'AggValue', label = 'DEU')\n",
    "plt.title('GDP Trend of the Top 5 Countries')\n",
    "plt.xlabel('Year')\n",
    "plt.ylabel('Total GDP')\n",
    "plt.grid()"
   ]
  },
  {
   "cell_type": "markdown",
   "metadata": {},
   "source": [
    " Question 3: Display the top 10 GDP contries in the year of user's interest.\n",
    " "
   ]
  },
  {
   "cell_type": "code",
   "execution_count": 12,
   "metadata": {},
   "outputs": [
    {
     "name": "stdout",
     "output_type": "stream",
     "text": [
      "Which year are you interested in?2009\n",
      "         VariableCode RegionCode      AggValue\n",
      "YearCode                                      \n",
      "2009           rgdpna        USA  1.492264e+07\n",
      "2009           rgdpna        CHN  1.149607e+07\n",
      "2009           rgdpna        IND  5.156750e+06\n",
      "2009           rgdpna        JPN  4.460375e+06\n",
      "2009           rgdpna        RUS  3.273618e+06\n",
      "2009           rgdpna        DEU  3.217221e+06\n",
      "2009           rgdpna        BRA  2.660015e+06\n",
      "2009           rgdpna        FRA  2.313746e+06\n",
      "2009           rgdpna        GBR  2.162081e+06\n",
      "2009           rgdpna        ITA  2.088297e+06\n"
     ]
    },
    {
     "data": {
      "image/png": "[encoded data removed]",
      "text/plain": [
       "<Figure size 432x288 with 1 Axes>"
      ]
     },
     "metadata": {
      "needs_background": "light"
     },
     "output_type": "display_data"
    }
   ],
   "source": [
    "import pandas as pd\n",
    "import numpy as np\n",
    "import matplotlib.pyplot as plt\n",
    "\n",
    "%matplotlib inline\n",
    "\n",
    "year = int(input('Which year are you interested in?'))\n",
    "gdp = pd.read_csv('FebPwtExport9122019.csv', index_col = 'YearCode')\n",
    "gdp_year = gdp.loc[year]\n",
    "gdp_sort = gdp_year.sort_values('AggValue', ascending = False)\n",
    "gdp_topten = gdp_sort[:10]\n",
    "print (gdp_topten)\n",
    "plt.scatter(gdp_topten.RegionCode, gdp_topten.AggValue)\n",
    "plt.title('Top 10 GDP Countries in ' + str(year))\n",
    "plt.xlabel('Country')\n",
    "plt.ylabel('GDP')\n",
    "plt.grid()"
   ]
  },
  {
   "cell_type": "code",
   "execution_count": null,
   "metadata": {},
   "outputs": [],
   "source": []
  }
 ],
 "metadata": {
  "kernelspec": {
   "display_name": "Python 3",
   "language": "python",
   "name": "python3"
  },
  "language_info": {
   "codemirror_mode": {
    "name": "ipython",
    "version": 3
   },
   "file_extension": ".py",
   "mimetype": "text/x-python",
   "name": "python",
   "nbconvert_exporter": "python",
   "pygments_lexer": "ipython3",
   "version": "3.7.3"
  }
 },
 "nbformat": 4,
 "nbformat_minor": 2
}
